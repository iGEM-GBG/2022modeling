{
 "cells": [
  {
   "cell_type": "code",
   "execution_count": null,
   "metadata": {},
   "outputs": [],
   "source": [
    "from numpy import *"
   ]
  },
  {
   "cell_type": "code",
   "execution_count": null,
   "metadata": {},
   "outputs": [],
   "source": [
    "Compound='prot'"
   ]
  },
  {
   "cell_type": "code",
   "execution_count": null,
   "metadata": {},
   "outputs": [],
   "source": [
    "N=50\n",
    "# WLCgeneral.m:6\n",
    "\n",
    "aT=10 ** 4\n",
    "# WLCgeneral.m:7\n",
    "\n",
    "if Compound == 'prot':\n",
    "    L=10\n",
    "# WLCgeneral.m:10\n",
    "    lp=0.6\n",
    "# WLCgeneral.m:11\n",
    "else:\n",
    "    if Compound == 'DNA':\n",
    "        L=10.2\n",
    "# WLCgeneral.m:13\n",
    "        lp=40\n",
    "# WLCgeneral.m:14\n",
    "    else:\n",
    "        L=1.75\n",
    "# WLCgeneral.m:16\n",
    "        lp=0.01\n",
    "# WLCgeneral.m:17\n",
    "\n",
    "R=zeros(1,aT)\n",
    "# WLCgeneral.m:20\n",
    "\n",
    "Rx=zeros(1,N)\n",
    "# WLCgeneral.m:21\n",
    "\n",
    "Ry=zeros(1,N)\n",
    "# WLCgeneral.m:22\n",
    "\n",
    "Rz=zeros(1,N)\n",
    "# WLCgeneral.m:23\n",
    "\n",
    "Rx_sum=zeros(1,aT)\n",
    "# WLCgeneral.m:24\n",
    "\n",
    "Ry_sum=zeros(1,aT)\n",
    "# WLCgeneral.m:25\n",
    "\n",
    "Rz_sum=zeros(1,aT)\n",
    "# WLCgeneral.m:26\n",
    "\n",
    "\n",
    "sigma=sqrt(L / (dot(N,lp)))\n",
    "# WLCgeneral.m:29\n"
   ]
  }
 ],
 "metadata": {
  "language_info": {
   "name": "python"
  },
  "orig_nbformat": 4
 },
 "nbformat": 4,
 "nbformat_minor": 2
}
