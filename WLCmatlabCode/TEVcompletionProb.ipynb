{
 "cells": [
  {
   "cell_type": "code",
   "execution_count": 1,
   "metadata": {},
   "outputs": [],
   "source": [
    "import math\n",
    "from turtle import dot\n",
    "import numpy as np\n",
    "from numpy import *"
   ]
  },
  {
   "cell_type": "markdown",
   "metadata": {},
   "source": [
    "## Initiate variables"
   ]
  },
  {
   "cell_type": "code",
   "execution_count": 6,
   "metadata": {},
   "outputs": [],
   "source": [
    "\n",
    "dCasLength=7\n",
    "# TEVcompletionProb.m:7\n",
    "\n",
    "N=50\n",
    "# TEVcompletionProb.m:9\n",
    "\n",
    "aT=dot(10 ** 6,2)\n",
    "# TEVcompletionProb.m:10\n",
    "\n",
    "L=11.5\n",
    "# TEVcompletionProb.m:11\n",
    "\n",
    "bp=30\n",
    "# TEVcompletionProb.m:12\n",
    "\n",
    "DL=dot(0.34,bp)\n",
    "# TEVcompletionProb.m:13\n",
    "\n",
    "rotPerbp=0.626573\n",
    "# TEVcompletionProb.m:14\n",
    "\n",
    "lp=0.6\n",
    "# TEVcompletionProb.m:15\n",
    "\n",
    "R=zeros([1,aT])\n",
    "# TEVcompletionProb.m:17\n",
    "\n",
    "Rx=zeros([1,N])\n",
    "# TEVcompletionProb.m:18\n",
    "\n",
    "Ry=zeros([1,N])\n",
    "# TEVcompletionProb.m:19\n",
    "\n",
    "Rz=zeros([1,N])\n",
    "# TEVcompletionProb.m:20\n",
    "\n",
    "Rx_sum=zeros([1,aT])\n",
    "# TEVcompletionProb.m:21\n",
    "\n",
    "Ry_sum=zeros([1,aT])\n",
    "# TEVcompletionProb.m:22\n",
    "\n",
    "Rz_sum=zeros([1,aT])\n",
    "# TEVcompletionProb.m:23\n",
    "\n",
    "Position=zeros([aT,3])\n",
    "# TEVcompletionProb.m:24\n",
    "\n",
    "DNAvector=[DL,0,0]\n",
    "# TEVcompletionProb.m:26\n",
    "\n",
    "\n",
    "sigma=np.sqrt(L / (dot(N,lp)))\n",
    "# TEVcompletionProb.m:28\n",
    "\n",
    "# TEVcompletionProb.m:40\n",
    "RxVis=zeros([2,N])\n",
    "# TEVcompletionProb.m:42\n",
    "RyVis=zeros([2,N])\n",
    "# TEVcompletionProb.m:43\n",
    "RzVis=zeros([2,N])\n",
    "# TEVcompletionProb.m:44\n",
    "RVis=zeros([2,N,3])\n",
    "# TEVcompletionProb.m:46\n",
    "nvis=0\n",
    "\n",
    "pi = math.pi"
   ]
  }
 ],
 "metadata": {
  "interpreter": {
   "hash": "ae0bc9fc7e743f0df2e7e40433470daf53003bfa75a120d8325fe4f078219ee3"
  },
  "kernelspec": {
   "display_name": "Python 3.8.3 ('base')",
   "language": "python",
   "name": "python3"
  },
  "language_info": {
   "codemirror_mode": {
    "name": "ipython",
    "version": 3
   },
   "file_extension": ".py",
   "mimetype": "text/x-python",
   "name": "python",
   "nbconvert_exporter": "python",
   "pygments_lexer": "ipython3",
   "version": "3.8.3"
  },
  "orig_nbformat": 4
 },
 "nbformat": 4,
 "nbformat_minor": 2
}
